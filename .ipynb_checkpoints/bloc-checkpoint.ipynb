{
 "cells": [
  {
   "cell_type": "markdown",
   "id": "3ae5db5e-20bb-44e4-a9ae-b08f8a21f97d",
   "metadata": {},
   "source": [
    "_hola soy estyefany sanchez_"
   ]
  },
  {
   "cell_type": "code",
   "execution_count": null,
   "id": "cfd2df4f-4951-40a9-b9b6-f17bfb639ecc",
   "metadata": {},
   "outputs": [],
   "source": []
  }
 ],
 "metadata": {
  "kernelspec": {
   "display_name": "Python 3 (ipykernel)",
   "language": "python",
   "name": "python3"
  },
  "language_info": {
   "codemirror_mode": {
    "name": "ipython",
    "version": 3
   },
   "file_extension": ".py",
   "mimetype": "text/x-python",
   "name": "python",
   "nbconvert_exporter": "python",
   "pygments_lexer": "ipython3",
   "version": "3.11.7"
  }
 },
 "nbformat": 4,
 "nbformat_minor": 5
}
